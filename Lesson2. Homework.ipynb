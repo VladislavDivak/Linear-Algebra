{
 "cells": [
  {
   "cell_type": "markdown",
   "id": "92385d4a",
   "metadata": {
    "id": "USFuS5Q1IIIP"
   },
   "source": [
    "## Матрицы и матричные операции. Часть 1"
   ]
  },
  {
   "cell_type": "markdown",
   "id": "9d89da62",
   "metadata": {
    "id": "VAmOu--LIILw"
   },
   "source": [
    "## Практическое задание"
   ]
  },
  {
   "cell_type": "code",
   "execution_count": 1,
   "id": "08178a1f",
   "metadata": {},
   "outputs": [],
   "source": [
    "import numpy as np"
   ]
  },
  {
   "cell_type": "markdown",
   "id": "436d17cb",
   "metadata": {},
   "source": [
    "__1.__ Установите, какие произведения матриц $AB$ и $BA$ определены, и найдите размерности полученных матриц:\n",
    "\n",
    "   а) $A$ — матрица $4\\times 2$, $B$ — матрица $4\\times 2$;\n",
    "    \n",
    "   б) $A$ — матрица $2\\times 5$, $B$ — матрица $5\\times 3$;\n",
    "    \n",
    "   в) $A$ — матрица $8\\times 3$, $B$ — матрица $3\\times 8$;\n",
    "    \n",
    "   г) $A$ — квадратная матрица $4\\times 4$, $B$ — квадратная матрица $4\\times 4$"
   ]
  },
  {
   "cell_type": "markdown",
   "id": "37b3c2f4",
   "metadata": {},
   "source": [
    "__Решение__<br>\n",
    "a) Неопределена <br>\n",
    "б) Определена, матрица 2 х 3<br>\n",
    "в) Определена, матрица 8 х 8<br>\n",
    "г) Определена, матрица 4 х 4<br>"
   ]
  },
  {
   "cell_type": "markdown",
   "id": "5bbe2e27",
   "metadata": {},
   "source": [
    "__2.__ Найдите сумму и произведение матриц $A=\\begin{pmatrix}\n",
    "1 & -2\\\\ \n",
    "3 & 0\n",
    "\\end{pmatrix}$ и $B=\\begin{pmatrix}\n",
    "4 & -1\\\\ \n",
    "0 & 5\n",
    "\\end{pmatrix}.$"
   ]
  },
  {
   "cell_type": "markdown",
   "id": "14a6a8b6",
   "metadata": {},
   "source": [
    "__Решение__<br>\n",
    "$$\\begin{pmatrix}\n",
    "1 & -2\\\\ \n",
    "3 & 0\n",
    "\\end{pmatrix} \\begin{pmatrix}\n",
    "4 & -1\\\\ \n",
    "0 & 5\n",
    "\\end{pmatrix}=\\begin{pmatrix}\n",
    "(1*4 + -2*0) & (1*(-1) + -2*5)\\\\ \n",
    "(3*4 + 0*0) & (3*(-1) + 0*5)\n",
    "\\end{pmatrix}=\\begin{pmatrix}\n",
    "4 & -11\\\\ \n",
    "12 & -3\n",
    "\\end{pmatrix}.$$"
   ]
  },
  {
   "cell_type": "code",
   "execution_count": 2,
   "id": "2b16cebc",
   "metadata": {},
   "outputs": [
    {
     "name": "stdout",
     "output_type": "stream",
     "text": [
      "Матрица A\n",
      "[[ 1 -2]\n",
      " [ 3  0]]\n",
      "Матрица B\n",
      "[[ 4 -1]\n",
      " [ 0  5]]\n",
      "Матрица AB\n",
      "[[  4 -11]\n",
      " [ 12  -3]]\n"
     ]
    }
   ],
   "source": [
    "A = np.array([[1, -2], [3, 0]])\n",
    "B = np.array([[4, -1], [0, 5]])\n",
    "\n",
    "print(f'Матрица A\\n{A}')\n",
    "print(f'Матрица B\\n{B}')\n",
    "print(f'Матрица AB\\n{np.dot(A, B)}')"
   ]
  },
  {
   "cell_type": "markdown",
   "id": "402080c2",
   "metadata": {},
   "source": [
    "__3.__ Из закономерностей сложения и умножения матриц на число можно сделать вывод, что матрицы одного размера образуют линейное пространство. Вычислите линейную комбинацию $3A-2B+4C$ для матриц $A=\\begin{pmatrix}\n",
    "1 & 7\\\\ \n",
    "3 & -6\n",
    "\\end{pmatrix}$, $B=\\begin{pmatrix}\n",
    "0 & 5\\\\ \n",
    "2 & -1\n",
    "\\end{pmatrix}$, $C=\\begin{pmatrix}\n",
    "2 & -4\\\\ \n",
    "1 & 1\n",
    "\\end{pmatrix}.$"
   ]
  },
  {
   "cell_type": "markdown",
   "id": "a37095d2",
   "metadata": {},
   "source": [
    "__Решение__<br>\n",
    "$$3\\begin{pmatrix}\n",
    "1 & 7\\\\ \n",
    "3 & -6\n",
    "\\end{pmatrix} - 2\\begin{pmatrix}\n",
    "0 & 5\\\\ \n",
    "2 & -1\n",
    "\\end{pmatrix} + 4\\begin{pmatrix}\n",
    "2 & -4\\\\ \n",
    "1 & 1\n",
    "\\end{pmatrix}=\\begin{pmatrix}\n",
    "3*1 - 2*0 + 4*2 & 3*7-2*5-4*4\\\\ \n",
    "3*3 - 2*2 + 4*1 & -3*6+2*1+4*1\n",
    "\\end{pmatrix}=\\begin{pmatrix}\n",
    "11 & -5\\\\ \n",
    "9 & -12\n",
    "\\end{pmatrix}.$$"
   ]
  },
  {
   "cell_type": "code",
   "execution_count": 8,
   "id": "0845cd06",
   "metadata": {},
   "outputs": [
    {
     "name": "stdout",
     "output_type": "stream",
     "text": [
      "Матрица 3A-2B+4C\n",
      "[[ 11  -5]\n",
      " [  9 -12]]\n"
     ]
    }
   ],
   "source": [
    "A = np.array([[1, 7], [3, -6]])\n",
    "B = np.array([[0, 5], [2, -1]])\n",
    "C = np.array([[2, -4], [1, 1]])\n",
    "\n",
    "print(f'Матрица 3A-2B+4C\\n{3*A-2*B+4*C}')"
   ]
  },
  {
   "cell_type": "markdown",
   "id": "fd1e5207",
   "metadata": {},
   "source": [
    "__4.__ Дана матрица $A=\\begin{pmatrix}\n",
    "4 & 1\\\\ \n",
    "5 & -2\\\\ \n",
    "2 & 3\n",
    "\\end{pmatrix}$.\n",
    "Вычислите $AA^{T}$ и $A^{T}A$."
   ]
  },
  {
   "cell_type": "markdown",
   "id": "d8221460",
   "metadata": {},
   "source": [
    "__Решение__<br>\n",
    "$$A^{T} = \\begin{pmatrix}\n",
    "4 & 5 & 2\\\\ \n",
    "1 & -2 & 3\n",
    "\\end{pmatrix}$$ <br>\n",
    "$$AA^{T} = \\begin{pmatrix}\n",
    "4*4+1*1 & 4*5+1*-2 & 4*2+1*3\\\\ \n",
    "5*4-2*1 & 5*5-2*-2 & 5*2-2*3\\\\\n",
    "2*4+3*1 & 2*5+3*-2 & 2*2+3*3\n",
    "\\end{pmatrix} =\\begin{pmatrix}\n",
    "17 & 18 & 11\\\\\n",
    "18 & 29 & 4\\\\\n",
    "11 & 4 & 13\n",
    "\\end{pmatrix}.$$ <br>\n",
    "$$A^{T}A = \\begin{pmatrix}\n",
    "4*4+5*5+2*2 & 4*1+5*-2+2*3\\\\ \n",
    "1*4-2*5+3*2 & 1*1+2*2+3*3\n",
    "\\end{pmatrix} =\\begin{pmatrix}\n",
    "45 & 0 \\\\\n",
    "0 & 14\n",
    "\\end{pmatrix}.$$"
   ]
  },
  {
   "cell_type": "code",
   "execution_count": 10,
   "id": "1bd73cd4",
   "metadata": {},
   "outputs": [
    {
     "name": "stdout",
     "output_type": "stream",
     "text": [
      "Матрица A\n",
      "[[ 4  1]\n",
      " [ 5 -2]\n",
      " [ 2  3]]\n",
      "Матрица AT\n",
      "[[ 4  5  2]\n",
      " [ 1 -2  3]]\n",
      "Матрица AAT\n",
      "[[17 18 11]\n",
      " [18 29  4]\n",
      " [11  4 13]]\n",
      "Матрица ATA\n",
      "[[45  0]\n",
      " [ 0 14]]\n"
     ]
    }
   ],
   "source": [
    "A = np.array([[4, 1], [5, -2], [2, 3]])\n",
    "AT = A.T\n",
    "\n",
    "print(f'Матрица A\\n{A}')\n",
    "print(f'Матрица AT\\n{AT}')\n",
    "print(f'Матрица AAT\\n{A.dot(AT)}')\n",
    "print(f'Матрица ATA\\n{AT.dot(A)}')"
   ]
  },
  {
   "cell_type": "code",
   "execution_count": null,
   "id": "42ca3e07",
   "metadata": {},
   "outputs": [],
   "source": []
  },
  {
   "cell_type": "markdown",
   "id": "da0af685",
   "metadata": {
    "id": "N7Ec4jnDWtQg"
   },
   "source": [
    "## Матрицы и матричные операции. Часть 2"
   ]
  },
  {
   "cell_type": "markdown",
   "id": "72a9403f",
   "metadata": {
    "id": "NRcOh0gsWtUo"
   },
   "source": [
    "## Практическое задание"
   ]
  },
  {
   "cell_type": "markdown",
   "id": "edca0a34",
   "metadata": {},
   "source": [
    "__1.__ Вычислите определитель:\n",
    "\n",
    "   a)<br>\n",
    "$\\begin{vmatrix}\n",
    "sinx & -cosx\\\\ \n",
    "cosx & sinx\n",
    "\\end{vmatrix};$\n",
    "\n",
    "   б) <br>  \n",
    "$\\begin{vmatrix}\n",
    "4 & 2 & 3\\\\ \n",
    "0 & 5 & 1\\\\ \n",
    "0 & 0 & 9\n",
    "\\end{vmatrix};$\n",
    "    \n",
    "   в)<br>\n",
    "$\\begin{vmatrix}\n",
    "1 & 2 & 3\\\\ \n",
    "4 & 5 & 6\\\\ \n",
    "7 & 8 & 9\n",
    "\\end{vmatrix}.$"
   ]
  },
  {
   "cell_type": "markdown",
   "id": "a4f82256",
   "metadata": {},
   "source": [
    "__Решение__:\n",
    "\n",
    "   a)<br>\n",
    "$\\begin{vmatrix}\n",
    "sinx & -cosx\\\\ \n",
    "cosx & sinx\n",
    "\\end{vmatrix} = sin^{2}x + cos^{2}x = 1$\n",
    "\n",
    "   б) <br>  \n",
    "$\\begin{vmatrix}\n",
    "4 & 2 & 3\\\\ \n",
    "0 & 5 & 1\\\\ \n",
    "0 & 0 & 9\n",
    "\\end{vmatrix} = 0*\\begin{vmatrix} \n",
    "2 & 3\\\\ \n",
    "5 & 1\n",
    "\\end{vmatrix} - 0*\\begin{vmatrix} \n",
    "4 & 3\\\\ \n",
    "0 & 1\n",
    "\\end{vmatrix} + 9*\\begin{vmatrix} \n",
    "4 & 2\\\\ \n",
    "0 & 5\n",
    "\\end{vmatrix} = 9*4*5 = 180$\n",
    "    \n",
    "   в)<br>\n",
    "$\\begin{vmatrix}\n",
    "1 & 2 & 3\\\\ \n",
    "4 & 5 & 6\\\\ \n",
    "7 & 8 & 9\n",
    "\\end{vmatrix}= 1*\\begin{vmatrix} \n",
    "5 & 6\\\\ \n",
    "8 & 9\n",
    "\\end{vmatrix} - 2*\\begin{vmatrix} \n",
    "4 & 6\\\\ \n",
    "7 & 9\n",
    "\\end{vmatrix} + 3*\\begin{vmatrix} \n",
    "4 & 5\\\\ \n",
    "7 & 8\n",
    "\\end{vmatrix} = 5*9-8*6-2*4*9+2*7*6+3*4*8-3*7*5 = 0$"
   ]
  },
  {
   "cell_type": "code",
   "execution_count": 19,
   "id": "9da5ea42",
   "metadata": {},
   "outputs": [
    {
     "name": "stdout",
     "output_type": "stream",
     "text": [
      "Определитель матрицы A\n",
      "1\n",
      "Определитель матрицы B\n",
      "180\n",
      "Определитель матрицы C\n",
      "0\n"
     ]
    }
   ],
   "source": [
    "A = [[np.sin(1), -np.cos(1)],[np.cos(1), np.sin(1)]]\n",
    "B = [[4, 2, 3], [0, 5, 1], [0, 0, 9]]\n",
    "C = [[1, 2, 3], [4, 5, 6], [7, 8, 9]]\n",
    "print(f'Определитель матрицы A\\n{np.linalg.det(A):.0f}')\n",
    "print(f'Определитель матрицы B\\n{np.linalg.det(B):.0f}')\n",
    "print(f'Определитель матрицы C\\n{np.linalg.det(C):.0f}')\n"
   ]
  },
  {
   "cell_type": "markdown",
   "id": "2767ab28",
   "metadata": {},
   "source": [
    "__2.__ Определитель матрицы $A$ равен $4$. Найдите:\n",
    "\n",
    "   а) $det(A^{2})$;\n",
    "    \n",
    "   б) $det(A^{T})$;\n",
    "    \n",
    "   в) $det(2A)$."
   ]
  },
  {
   "cell_type": "markdown",
   "id": "0b645e97",
   "metadata": {},
   "source": [
    "__Решение__\n",
    "\n",
    "   а) $det(A^{2}) = det(A) * det(A) = 16$;\n",
    "    \n",
    "   б) $det(A^{T}) = det(A) = 4$;\n",
    "    \n",
    "   в) $det(2A) = 2det(A) = 8$."
   ]
  },
  {
   "cell_type": "markdown",
   "id": "2d8113b4",
   "metadata": {},
   "source": [
    "__3.__  Докажите, что матрица:\n",
    "\n",
    "$$\\begin{pmatrix}\n",
    "-2 & 7 & -3\\\\ \n",
    "4 & -14 & 6\\\\ \n",
    "-3 & 7 & 13\n",
    "\\end{pmatrix}$$\n",
    "   \n",
    "вырожденная."
   ]
  },
  {
   "cell_type": "markdown",
   "id": "49dea118",
   "metadata": {},
   "source": [
    "__Решение__<br>\n",
    "Матрица называется сингулярной или вырожденной, если её определитель равен нулю.<br>\n",
    "$det A = \\begin{vmatrix}\n",
    "-2 & 7 & -3\\\\ \n",
    "4 & -14 & 6\\\\ \n",
    "-3 & 7 & 13\n",
    "\\end{vmatrix} = -2*\\begin{vmatrix} \n",
    "-14 & 6\\\\ \n",
    "7 & 13\n",
    "\\end{vmatrix} - 7*\\begin{vmatrix} \n",
    "4 & 6\\\\ \n",
    "-3 & 13\n",
    "\\end{vmatrix} - 3*\\begin{vmatrix} \n",
    "4 & -14\\\\ \n",
    "-3 & 7\n",
    "\\end{vmatrix} =$ <br>\n",
    "$= 2*14*13+2*7*6-7*4*13-7*3*6-3*4*7+3*3*14 = 0$"
   ]
  },
  {
   "cell_type": "code",
   "execution_count": 20,
   "id": "2e8ca596",
   "metadata": {},
   "outputs": [
    {
     "name": "stdout",
     "output_type": "stream",
     "text": [
      "Определитель матрицы C\n",
      "0\n"
     ]
    }
   ],
   "source": [
    "C = [[-2, 7, -3], [4, -14, 6], [-3, 7, 13]]\n",
    "\n",
    "print(f'Определитель матрицы C\\n{np.linalg.det(C):.0f}')\n"
   ]
  },
  {
   "cell_type": "markdown",
   "id": "20d21e2e",
   "metadata": {},
   "source": [
    "__4.__ Найдите ранг матрицы:\n",
    "\n",
    "   а) $\\begin{pmatrix}\n",
    "1 & 2 & 3\\\\ \n",
    "1 & 1 & 1\\\\ \n",
    "2 & 3 & 4\n",
    "\\end{pmatrix};$\n",
    "\n",
    "   б) $\\begin{pmatrix}\n",
    "0 & 0 & 2 & 1\\\\ \n",
    "0 & 0 & 2 & 2\\\\ \n",
    "0 & 0 & 4 & 3\\\\ \n",
    "2 & 3 & 5 & 6\n",
    "\\end{pmatrix}.$"
   ]
  },
  {
   "cell_type": "markdown",
   "id": "0da21633",
   "metadata": {},
   "source": [
    "__Решение__<br>\n",
    "a)<br>\n",
    "$\\begin{pmatrix}\n",
    "1 & 2 & 3\\\\ \n",
    "1 & 1 & 1\\\\ \n",
    "2 & 3 & 4\n",
    "\\end{pmatrix}$<br>\n",
    "Последняя строка является суммой первых двух строк. Выбросим её и вычтем из второй строки строки первую<br>\n",
    "$\\begin{pmatrix}\n",
    "1 & 2 & 3\\\\ \n",
    "0 & -1 & -2\n",
    "\\end{pmatrix}$<br>\n",
    "Таким образом, ранг матрицы равен 2, так как минор данной матрицы невырожденный (определитель равен -4+3=-1)"
   ]
  },
  {
   "cell_type": "code",
   "execution_count": 22,
   "id": "09ece500",
   "metadata": {},
   "outputs": [
    {
     "name": "stdout",
     "output_type": "stream",
     "text": [
      "Ранг матрицы \n",
      "2\n"
     ]
    }
   ],
   "source": [
    "C = [[1, 2, 3], [1, 1, 1], [2, 3, 4]]\n",
    "\n",
    "print(f'Ранг матрицы \\n{np.linalg.matrix_rank(C):.0f}')"
   ]
  },
  {
   "cell_type": "markdown",
   "id": "66b06311",
   "metadata": {},
   "source": [
    "б)<br>\n",
    "$\\begin{pmatrix}\n",
    "0 & 0 & 2 & 1\\\\ \n",
    "0 & 0 & 2 & 2\\\\ \n",
    "0 & 0 & 4 & 3\\\\ \n",
    "2 & 3 & 5 & 6\n",
    "\\end{pmatrix}.$<br>\n",
    "Третья строка является суммой первых двух, значит её можно удалить. Последнюю строку можно переставить на первую строчку <br>\n",
    "$\\begin{pmatrix}\n",
    "2 & 3 & 5 & 6\\\\\n",
    "0 & 0 & 2 & 1\\\\ \n",
    "0 & 0 & 2 & 2\n",
    "\\end{pmatrix}.$<br>\n",
    "Таким образом, ранг матрицы равен 3, так как минор данной матрицы невырожденный (определитель равен 3(4-2)=6)"
   ]
  },
  {
   "cell_type": "code",
   "execution_count": 23,
   "id": "e13ceb66",
   "metadata": {},
   "outputs": [
    {
     "name": "stdout",
     "output_type": "stream",
     "text": [
      "Ранг матрицы \n",
      "3\n"
     ]
    }
   ],
   "source": [
    "C = [[0, 0, 2, 1], [0, 0, 2, 2], [0, 0, 4, 3], [2, 3, 5, 5]]\n",
    "\n",
    "print(f'Ранг матрицы \\n{np.linalg.matrix_rank(C):.0f}')"
   ]
  }
 ],
 "metadata": {
  "kernelspec": {
   "display_name": "Python 3 (ipykernel)",
   "language": "python",
   "name": "python3"
  },
  "language_info": {
   "codemirror_mode": {
    "name": "ipython",
    "version": 3
   },
   "file_extension": ".py",
   "mimetype": "text/x-python",
   "name": "python",
   "nbconvert_exporter": "python",
   "pygments_lexer": "ipython3",
   "version": "3.9.7"
  }
 },
 "nbformat": 4,
 "nbformat_minor": 5
}
