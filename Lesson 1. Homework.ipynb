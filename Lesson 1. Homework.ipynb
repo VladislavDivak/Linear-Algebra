{
 "cells": [
  {
   "cell_type": "markdown",
   "id": "e86f8ecd",
   "metadata": {
    "id": "zz7SDkPIkVlM"
   },
   "source": [
    "# Урок 1"
   ]
  },
  {
   "cell_type": "markdown",
   "id": "aebec199",
   "metadata": {
    "id": "p_3vqG5-kVlP"
   },
   "source": [
    "# Линейное пространство. Основные понятия. Часть 1"
   ]
  },
  {
   "cell_type": "markdown",
   "id": "d8ae8421",
   "metadata": {
    "id": "NaYoffkueD8U"
   },
   "source": [
    "__1.__ Исследуйте на линейную зависимость:\n",
    "\n",
    "$$f_{1}(x)=e^{x}, f_{2}(x)=1, f_{3}(x)=x+1, f_{4}(x)=x-e^{x}.$$\n",
    "\n",
    "__Решение__\n",
    " \n",
    "Заметим, что $f_{1}(x)=f_{3}(x)-f_{2}(x)-f_{4}(x)$, то есть вектор $f_{1}(x)$ — линейная комбинация векторов $f_{2}(x)$, $f_{3}(x)$ и $f_{4}(x)$, из чего можно сделать вывод, что $f_{1}(x)=e^{x}$, $f_{2}(x)=1$, $f_{3}(x)=x+1$, $f_{4}(x)=x-e^{x}$ линейно зависимы."
   ]
  },
  {
   "cell_type": "markdown",
   "id": "9bd76e11",
   "metadata": {
    "id": "cECfCSANkVqR"
   },
   "source": [
    "__2.__ Исследуйте на линейную зависимость:\n",
    "$$f_{1}(x)=2, f_{2}(x)=x, f_{3}(x)=x^{2}, f_{4}(x)=(x+1)^{2}$$\n",
    "\n",
    "__Решение__\n",
    " \n",
    "Заметим, что $f_{4}(x)=(x+1)^{2}=x^{2}+2x+1=f_{3}(x)+2f_{2}(x)+0.5f_{1}(x)$, то есть вектор $f_{4}(x)$ — линейная комбинация векторов $f_{2}(x)$, $f_{3}(x)$ и $f_{1}(x)$, из чего можно сделать вывод, что функции линейно зависимы."
   ]
  },
  {
   "cell_type": "markdown",
   "id": "da94f4bd",
   "metadata": {
    "id": "DFrjdtbHkVqS"
   },
   "source": [
    "__3.__ Найдите координаты вектора $x = (2, 3, 5)\\in \\mathbb{R}^{3}$ в базисе $b_{1}=(0, 0, 10)$, $b_{2}=(2, 0, 0)$, $b_{3}=(0, 1, 0)$.\n",
    "\n",
    "__Решение__\n",
    " \n",
    "Координаты x поочерёдно делим на координаты базисов. Получаем $x = 0.5b_{1}+b_{2}+3b_{3}$"
   ]
  },
  {
   "cell_type": "markdown",
   "id": "23dbc376",
   "metadata": {
    "id": "5la-eVLukVqT"
   },
   "source": [
    "__4.__ Найдите координаты вектора $3x^{2}-2x+2\\in\\mathbb{R}^{3}[x]$:\n",
    "\n",
    "а) в базисе $1$, $x$, $x^{2}$;\n",
    "\n",
    "б) в базисе $x^{2}$, $x-1$, $1$\n",
    "\n",
    "__Решение__\n",
    " \n",
    "а) В базисе вектор равен $3*x^{2}-2*x+2*1$. Соответственно координаты вектора равны (2,-2,3)\n",
    "\n",
    "б) В базисе вектор равен $3*x^{2}-2*(x-1)+0*1$. Соответственно координаты вектора равны (3,-2,0)"
   ]
  },
  {
   "cell_type": "markdown",
   "id": "0fee3895",
   "metadata": {
    "id": "kQlell_GkVqU"
   },
   "source": [
    "__5.__ Установите, считается ли линейным подпространством:\n",
    "\n",
    "а) совокупность всех векторов трёхмерного пространства, у которых по крайней мере одна из первых двух координат равна нулю;\n",
    "    \n",
    "б) все векторы, считающиеся линейными комбинациями данных векторов $\\{u_{1}, u_{2} \\ldots, u_{n}\\}$.\n",
    "\n",
    "__Решение__\n",
    " \n",
    "а) $$(0, a, b)+(0, c, d) = (0, a+c, b+d),$$ $$\\alpha\\cdot (0, a, b) = (0, \\alpha a, \\alpha b).$$\n",
    " \n",
    " \n",
    "Полученные векторы также принадлежат указанному в задании множеству всех векторов вида $(0, a, b)$, то есть это множество считается подпространством линейного пространства $\\mathbb{R}^{3}$.\n",
    "\n",
    "б) Возьмём в  𝑛 -мерном линейном пространстве конечный набор векторов $\\{u_{1}, u_{2} \\ldots, u_{n}\\}$. Тогда совокупность всех линейных комбинаций этих векторов образует некоторое подпространство исходного линейного пространства. Она будет называться линейной оболочкой этого множества."
   ]
  },
  {
   "cell_type": "markdown",
   "id": "7dc76a52",
   "metadata": {
    "id": "c9EHjpDAc7Zy"
   },
   "source": [
    "# Линейное пространство. Основные понятия. Часть 2"
   ]
  },
  {
   "cell_type": "markdown",
   "id": "e9cbafea",
   "metadata": {
    "id": "rnPVQP84c7cu"
   },
   "source": [
    "## Практическое задание"
   ]
  },
  {
   "cell_type": "code",
   "execution_count": 30,
   "id": "0a8ca5d3",
   "metadata": {},
   "outputs": [],
   "source": [
    "import numpy as np\n",
    "from numpy.linalg import norm"
   ]
  },
  {
   "cell_type": "markdown",
   "id": "ff34ff8a",
   "metadata": {
    "id": "81d4BnNXc7cy"
   },
   "source": [
    "__1.__ Найдите скалярное произведение векторов $x, y \\in \\mathbb{R}$:<br>\n",
    "а) $x=(0,-3, 6),~y=(-4, 7, 9);$<br>\n",
    "б) $x=(7, -4, 0, 1),~y=(-3, 1, 11, 2).$\n",
    "\n",
    "__2.__ Найдите нормы векторов $(4, 2, 4)$ и $(12, 3, 4)$ и угол между ними.\n",
    "\n",
    "__3.__ Определите, будет ли линейное пространство евклидовым, если за скалярное произведение принять:<br>\n",
    "а) произведение длин векторов;<br>\n",
    "б) утроенное обычное скалярное произведение векторов?<br>\n",
    "      \n",
    "__4.__ Выясните, какие из нижеперечисленных векторов образуют ортонормированный базис в линейном пространстве $\\mathbb{R}^{3}$:<br>\n",
    "а) $(1,0,0),(0,0,1);$ <br>\n",
    "б) $(1/\\sqrt{2},-1/\\sqrt{2},0),(1/\\sqrt{2},1/\\sqrt{2},0), (0,0,1);$<br>\n",
    "в) $(1/2, -1/2, 0), (0, 1/2, 1/2), (0,0,1);$<br>\n",
    "г) $(1,0,0),(0,1,0),(0,0,1)?$ \n"
   ]
  },
  {
   "cell_type": "markdown",
   "id": "03a810b3",
   "metadata": {},
   "source": [
    "__1.__ Найдите скалярное произведение векторов $x, y \\in \\mathbb{R}$:<br>\n",
    "а) $x=(0,-3, 6),~y=(-4, 7, 9);$<br>\n",
    "б) $x=(7, -4, 0, 1),~y=(-3, 1, 11, 2).$"
   ]
  },
  {
   "cell_type": "code",
   "execution_count": 7,
   "id": "cb089f8c",
   "metadata": {},
   "outputs": [
    {
     "name": "stdout",
     "output_type": "stream",
     "text": [
      "33\n"
     ]
    }
   ],
   "source": [
    "x = np.array([0,-3, 6])\n",
    "y = np.array([-4, 7, 9])\n",
    "print(x.dot(y))"
   ]
  },
  {
   "cell_type": "code",
   "execution_count": 8,
   "id": "97a191d4",
   "metadata": {},
   "outputs": [
    {
     "name": "stdout",
     "output_type": "stream",
     "text": [
      "-23\n"
     ]
    }
   ],
   "source": [
    "x = np.array([7, -4, 0, 1])\n",
    "y = np.array([-3, 1, 11, 2])\n",
    "print(x.dot(y))"
   ]
  },
  {
   "cell_type": "markdown",
   "id": "32d74fb4",
   "metadata": {},
   "source": [
    "__2.__ Найдите нормы векторов $(4, 2, 4)$ и $(12, 3, 4)$ и угол между ними."
   ]
  },
  {
   "cell_type": "code",
   "execution_count": 29,
   "id": "b044843b",
   "metadata": {},
   "outputs": [
    {
     "name": "stdout",
     "output_type": "stream",
     "text": [
      "norm x = 6.0\n",
      "norm x = 13.0\n",
      "cos phi = 0.8974358974358974, phi = 0.4568740035326613\n"
     ]
    }
   ],
   "source": [
    "x = np.array([4,2,4])\n",
    "y = np.array([12,3,4])\n",
    "cos_phi = np.dot(x, y) / norm(x) / norm(y)\n",
    "\n",
    "print(f'norm x = {norm(x)}')\n",
    "print(f'norm x = {norm(y)}')\n",
    "print(f'cos phi = {cos_phi}, phi = {np.arccos(cos_phi)}')"
   ]
  },
  {
   "cell_type": "markdown",
   "id": "c01737a4",
   "metadata": {},
   "source": [
    "__3.__ Определите, будет ли линейное пространство евклидовым, если за скалярное произведение принять:<br>\n",
    "а) произведение длин векторов;<br>\n",
    "б) утроенное обычное скалярное произведение векторов?<br>"
   ]
  },
  {
   "cell_type": "markdown",
   "id": "7482e24f",
   "metadata": {},
   "source": [
    "а) Нет, потому что из школьной программы известно, что в стандартном понимании в трёхмерном пространстве скалярное произведение двух векторов определяется как произведение длин этих векторов на косинус угла между ними. Будет нарушаться как минимум вторая аксиома, необходимая для принятия евклидового пространства:   (𝜆𝑥,𝑦)=𝜆(𝑥,𝑦). "
   ]
  },
  {
   "cell_type": "markdown",
   "id": "a9ca141d",
   "metadata": {},
   "source": [
    "б) Да, потому что тройка выходит за скобки в любой из аксиом"
   ]
  },
  {
   "cell_type": "markdown",
   "id": "d599af03",
   "metadata": {},
   "source": [
    "__4.__ Выясните, какие из нижеперечисленных векторов образуют ортонормированный базис в линейном пространстве $\\mathbb{R}^{3}$:<br>\n",
    "а) $(1,0,0),(0,0,1);$ <br>\n",
    "б) $(1/\\sqrt{2},-1/\\sqrt{2},0),(1/\\sqrt{2},1/\\sqrt{2},0), (0,0,1);$<br>\n",
    "в) $(1/2, -1/2, 0), (0, 1/2, 1/2), (0,0,1);$<br>\n",
    "г) $(1,0,0),(0,1,0),(0,0,1)?$ "
   ]
  },
  {
   "cell_type": "markdown",
   "id": "6c8fdeb5",
   "metadata": {},
   "source": [
    "В конечномерном евклидовом пространстве базис  {𝑒1,𝑒2...,𝑒𝑛}  называется ортонормированным, если:\n",
    "\n",
    "(𝑒𝑖,𝑒𝑗)=0   ∀   𝑖≠𝑗  и  (𝑒𝑖,𝑒𝑖)=1   ∀   𝑖∈[1,𝑛]."
   ]
  },
  {
   "cell_type": "code",
   "execution_count": 36,
   "id": "7ca531f1",
   "metadata": {},
   "outputs": [
    {
     "name": "stdout",
     "output_type": "stream",
     "text": [
      "(x,y) = 0\n",
      "(x,x) = 1\n",
      "(y,y) = 1\n",
      "Oртонормированный\n"
     ]
    }
   ],
   "source": [
    "x = np.array([1,0,0])\n",
    "y = np.array([0,0,1])\n",
    "print(f'(x,y) = {x.dot(y)}')\n",
    "print(f'(x,x) = {x.dot(x)}')\n",
    "print(f'(y,y) = {y.dot(y)}')\n",
    "print('Oртонормированный') if (x.dot(y)==0 and x.dot(x)==1 and y.dot(y)==1) else print('Неортонормированный')"
   ]
  },
  {
   "cell_type": "code",
   "execution_count": 39,
   "id": "197db85b",
   "metadata": {},
   "outputs": [
    {
     "name": "stdout",
     "output_type": "stream",
     "text": [
      "(x,y) = 0.0\n",
      "(x,z) = 0.0\n",
      "(y,z) = 0.0\n",
      "(x,x) = 0.9999999999999998\n",
      "(y,y) = 0.9999999999999998\n",
      "(z,z) = 1\n",
      "Неортонормированный\n"
     ]
    }
   ],
   "source": [
    "x = np.array([1/(2**0.5),(-1)/(2**0.5),0])\n",
    "y = np.array([1/(2**0.5),1/(2**0.5),0])\n",
    "z = np.array([0,0,1])\n",
    "print(f'(x,y) = {x.dot(y)}')\n",
    "print(f'(x,z) = {x.dot(z)}')\n",
    "print(f'(y,z) = {y.dot(z)}')\n",
    "print(f'(x,x) = {x.dot(x)}')\n",
    "print(f'(y,y) = {y.dot(y)}')\n",
    "print(f'(z,z) = {z.dot(z)}')\n",
    "print('Oртонормированный') if (x.dot(y)==0 and x.dot(z)==0 and y.dot(z)==0 and \n",
    "                               x.dot(x)==1 and y.dot(y)==1 and z.dot(z)==1) else print('Неортонормированный')"
   ]
  },
  {
   "cell_type": "code",
   "execution_count": 40,
   "id": "13bccdfc",
   "metadata": {},
   "outputs": [
    {
     "name": "stdout",
     "output_type": "stream",
     "text": [
      "(x,y) = 4.75\n",
      "(x,z) = 0.0\n",
      "(y,z) = 0.5\n",
      "(x,x) = 0.5\n",
      "(y,y) = 100.5\n",
      "(z,z) = 1\n",
      "Неортонормированный\n"
     ]
    }
   ],
   "source": [
    "x = np.array([1/2,-1/2,0])\n",
    "y = np.array([10,1/2,1/2])\n",
    "z = np.array([0,0,1])\n",
    "print(f'(x,y) = {x.dot(y)}')\n",
    "print(f'(x,z) = {x.dot(z)}')\n",
    "print(f'(y,z) = {y.dot(z)}')\n",
    "print(f'(x,x) = {x.dot(x)}')\n",
    "print(f'(y,y) = {y.dot(y)}')\n",
    "print(f'(z,z) = {z.dot(z)}')\n",
    "print('Oртонормированный') if (x.dot(y)==0 and x.dot(z)==0 and y.dot(z)==0 and \n",
    "                               x.dot(x)==1 and y.dot(y)==1 and z.dot(z)==1) else print('Неортонормированный')"
   ]
  },
  {
   "cell_type": "code",
   "execution_count": 42,
   "id": "a8a86064",
   "metadata": {},
   "outputs": [
    {
     "name": "stdout",
     "output_type": "stream",
     "text": [
      "(x,y) = 0\n",
      "(x,z) = 0\n",
      "(y,z) = 0\n",
      "(x,x) = 1\n",
      "(y,y) = 1\n",
      "(z,z) = 1\n",
      "Oртонормированный\n"
     ]
    }
   ],
   "source": [
    "x = np.array([1,0,0])\n",
    "y = np.array([0,1,0])\n",
    "z = np.array([0,0,1])\n",
    "print(f'(x,y) = {x.dot(y)}')\n",
    "print(f'(x,z) = {x.dot(z)}')\n",
    "print(f'(y,z) = {y.dot(z)}')\n",
    "print(f'(x,x) = {x.dot(x)}')\n",
    "print(f'(y,y) = {y.dot(y)}')\n",
    "print(f'(z,z) = {z.dot(z)}')\n",
    "print('Oртонормированный') if (x.dot(y)==0 and x.dot(z)==0 and y.dot(z)==0 and \n",
    "                               x.dot(x)==1 and y.dot(y)==1 and z.dot(z)==1) else print('Неортонормированный')"
   ]
  },
  {
   "cell_type": "code",
   "execution_count": null,
   "id": "42eb7cdb",
   "metadata": {},
   "outputs": [],
   "source": []
  }
 ],
 "metadata": {
  "kernelspec": {
   "display_name": "Python 3 (ipykernel)",
   "language": "python",
   "name": "python3"
  },
  "language_info": {
   "codemirror_mode": {
    "name": "ipython",
    "version": 3
   },
   "file_extension": ".py",
   "mimetype": "text/x-python",
   "name": "python",
   "nbconvert_exporter": "python",
   "pygments_lexer": "ipython3",
   "version": "3.9.7"
  }
 },
 "nbformat": 4,
 "nbformat_minor": 5
}
